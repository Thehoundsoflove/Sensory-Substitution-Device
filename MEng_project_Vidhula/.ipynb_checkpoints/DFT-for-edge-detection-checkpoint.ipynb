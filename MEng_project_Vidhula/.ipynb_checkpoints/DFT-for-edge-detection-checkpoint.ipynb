{
 "cells": [
  {
   "cell_type": "markdown",
   "metadata": {},
   "source": [
    "## Converting image to frequency domain"
   ]
  },
  {
   "cell_type": "markdown",
   "metadata": {},
   "source": [
    "**Aim:** Approximating given image of a shape- tested on circle and square\n",
    "\n",
    "**Strategy:**\n",
    "- Contour detection \n",
    "- Apply Fourier Transform and extract Fourier Descriptors\n",
    "- Plot reconstructed image from Fourier Descriptors"
   ]
  },
  {
   "cell_type": "markdown",
   "metadata": {},
   "source": [
    "### Initializing"
   ]
  },
  {
   "cell_type": "code",
   "execution_count": 1,
   "metadata": {},
   "outputs": [],
   "source": [
    "import cv2\n",
    "import numpy as np\n",
    "from matplotlib import pyplot as plt\n",
    "\n",
    "original_center = 0.0\n",
    "original_radius = 0.0\n",
    "approx_center   = 0.0\n",
    "approx_radius   = 0.0\n",
    "\n",
    "scale_factor    = 0.0\n",
    "shift           = 0.0"
   ]
  },
  {
   "cell_type": "code",
   "execution_count": 2,
   "metadata": {},
   "outputs": [
    {
     "data": {
      "image/png": "[encoded data removed]",
      "text/plain": [
       "<Figure size 432x288 with 1 Axes>"
      ]
     },
     "metadata": {
      "needs_background": "light"
     },
     "output_type": "display_data"
    }
   ],
   "source": [
    "#Load and convert image to grayscale\n",
    "img = cv2.imread('square.png')\n",
    "assert img is not None, \"Image path not loaded correctly\"\n",
    "img = cv2.cvtColor(img, cv2.COLOR_BGR2RGB) #CV uses BGR instead of RGB\n",
    "\n",
    "plt.imshow(img)\n",
    "plt.title('Original image')\n",
    "plt.axis('off')\n",
    "\n",
    "plt.show()"
   ]
  },
  {
   "cell_type": "code",
   "execution_count": 3,
   "metadata": {},
   "outputs": [],
   "source": [
    "# convert the image to grayscale format\n",
    "img_gray = cv2.cvtColor(img, cv2.COLOR_BGR2GRAY)\n",
    "\n",
    "#Thresholding\n",
    "threshold_value = 128  #Threshold chosen as midway between 0 and 255\n",
    "_, binary_image = cv2.threshold(img_gray, threshold_value, 255, cv2.THRESH_BINARY)"
   ]
  },
  {
   "cell_type": "markdown",
   "metadata": {},
   "source": [
    "### Extracting coordiantes"
   ]
  },
  {
   "cell_type": "code",
   "execution_count": 4,
   "metadata": {
    "scrolled": true
   },
   "outputs": [
    {
     "name": "stdout",
     "output_type": "stream",
     "text": [
      "Complex coordiantes: [  0.  +0.j   0.+261.j 307.+261.j 307.  +0.j]\n"
     ]
    }
   ],
   "source": [
    "# Find contours\n",
    "contours, hierarchy = cv2.findContours(binary_image, cv2.RETR_EXTERNAL, cv2.CHAIN_APPROX_SIMPLE)\n",
    "if (len(contours) == 0):\n",
    "    print(\"No contours in the image\")\n",
    "\n",
    "contour = contours[0]  # Only 1 contour in case of circle.png\n",
    "# Convert contour to a complex representation\n",
    "cntr_complex = contour[:, 0, 0] + 1j * contour[:, 0, 1]\n",
    "\n",
    "print(f\"Complex coordiantes: {cntr_complex}\")"
   ]
  },
  {
   "cell_type": "markdown",
   "metadata": {},
   "source": [
    "### Fourier Transform on coordiantes"
   ]
  },
  {
   "cell_type": "code",
   "execution_count": 5,
   "metadata": {},
   "outputs": [
    {
     "name": "stdout",
     "output_type": "stream",
     "text": [
      "Total number of Fourier Descriptors: 4\n"
     ]
    }
   ],
   "source": [
    "# Apply Fourier Transform on contour\n",
    "fourier_descriptors = np.fft.fft(cntr_complex) #conversion from space to frequency domain\n",
    "print(f\"Total number of Fourier Descriptors: {len(fourier_descriptors)}\")\n",
    "\n",
    "# Remove DC component for translation invariance\n",
    "fourier_descriptors[0] = 0\n",
    "\n",
    "num_descriptors = 3 # Adjust for level of detail\n",
    "# Lower frequencies describe the overall shape, while higher frequencies capture details (and noise).\n",
    "\n",
    "# Raise a ValueError if num_descriptors is greater than 4\n",
    "if num_descriptors > len(fourier_descriptors):\n",
    "    raise ValueError(\"Number of descriptors exceeds the limit of 4\")\n",
    "\n",
    "# Higher frequencies filtered\n",
    "fourier_subset = np.zeros_like(fourier_descriptors)\n",
    "fourier_subset[:num_descriptors] = fourier_descriptors[:num_descriptors]"
   ]
  },
  {
   "cell_type": "markdown",
   "metadata": {},
   "source": [
    "### Inverse Transform"
   ]
  },
  {
   "cell_type": "code",
   "execution_count": 6,
   "metadata": {},
   "outputs": [
    {
     "name": "stdout",
     "output_type": "stream",
     "text": [
      "Original radius: 153.5\n",
      "Approx radius: 11.0\n",
      "Scale factor: 13.954545454545455\n",
      "Approximated contour points after IFFT: [[-11  11]\n",
      " [-11 -11]\n",
      " [ 11 -11]\n",
      " [ 11  11]]\n"
     ]
    }
   ],
   "source": [
    "# Apply IFFT to get the approximated contour back\n",
    "approx_contour = np.fft.ifft(fourier_subset)\n",
    "approx_contour = np.column_stack((approx_contour.real, approx_contour.imag)).astype(np.int32)\n",
    "\n",
    "# Calculate original radius as the max distance from the center\n",
    "original_center = contour[:, 0].mean(axis=0)\n",
    "original_radius = np.max(np.abs(contour[:, 0] - original_center))\n",
    "\n",
    "# Calculate approximated radius as max distance from the approximated center\n",
    "approx_center = approx_contour.mean(axis=0)\n",
    "approx_radius = np.max(np.abs(approx_contour - approx_center))\n",
    "\n",
    "# Calculate the scaling factor\n",
    "scale_factor = original_radius / approx_radius\n",
    "\n",
    "print(f\"Original radius: {original_radius}\")\n",
    "print(f\"Approx radius: {approx_radius}\")\n",
    "print(f\"Scale factor: {scale_factor}\")\n",
    "fourier_descriptors *= scale_factor\n",
    "\n",
    "print(f\"Approximated contour points after IFFT: {approx_contour}\")"
   ]
  },
  {
   "cell_type": "markdown",
   "metadata": {},
   "source": [
    "### Reconstructing image"
   ]
  },
  {
   "cell_type": "code",
   "execution_count": 7,
   "metadata": {},
   "outputs": [
    {
     "name": "stdout",
     "output_type": "stream",
     "text": [
      "Original center: [153.5 130.5]\n",
      "Approx center: [0. 0.]\n",
      "Approx contour: [[-11  11]\n",
      " [-11 -11]\n",
      " [ 11 -11]\n",
      " [ 11  11]]\n",
      "Shift: [153 130]\n"
     ]
    },
    {
     "data": {
      "image/png": "[encoded data removed]",
      "text/plain": [
       "<Figure size 432x288 with 1 Axes>"
      ]
     },
     "metadata": {
      "needs_background": "light"
     },
     "output_type": "display_data"
    }
   ],
   "source": [
    "print(f\"Original center: {original_center}\")\n",
    "print(f\"Approx center: {approx_center}\")\n",
    "\n",
    "# Center the approximated contour by shifting it to the original center\n",
    "shift = original_center - approx_center\n",
    "shift = shift.astype(np.int32)\n",
    "\n",
    "print(f\"Approx contour: {approx_contour}\")\n",
    "print(f\"Shift: {shift}\")\n",
    "\n",
    "approx_contour += shift\n",
    "\n",
    "# Draw the reconstructed contour on a blank image\n",
    "# img_color = np.zeros_like(img)  # Create a blank image\n",
    "img_color = img.copy()\n",
    "cv2.drawContours(img_color, [approx_contour], -1, (0, 255, 0), 2)\n",
    "\n",
    "plt.imshow(cv2.cvtColor(img_color, cv2.COLOR_BGR2RGB))\n",
    "plt.title(\"Reconstructed Shape\")\n",
    "plt.axis(\"off\")\n",
    "plt.show()"
   ]
  },
  {
   "cell_type": "code",
   "execution_count": null,
   "metadata": {},
   "outputs": [],
   "source": []
  }
 ],
 "metadata": {
  "kernelspec": {
   "display_name": "Python 3",
   "language": "python",
   "name": "python3"
  },
  "language_info": {
   "codemirror_mode": {
    "name": "ipython",
    "version": 3
   },
   "file_extension": ".py",
   "mimetype": "text/x-python",
   "name": "python",
   "nbconvert_exporter": "python",
   "pygments_lexer": "ipython3",
   "version": "3.8.3"
  }
 },
 "nbformat": 4,
 "nbformat_minor": 4
}
