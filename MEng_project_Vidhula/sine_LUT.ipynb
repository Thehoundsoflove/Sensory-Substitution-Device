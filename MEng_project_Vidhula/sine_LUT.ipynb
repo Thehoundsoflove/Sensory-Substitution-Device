{
 "cells": [
  {
   "cell_type": "markdown",
   "metadata": {},
   "source": [
    "### Sine Table Lookup Table (LUT)"
   ]
  },
  {
   "cell_type": "code",
   "execution_count": 1,
   "metadata": {},
   "outputs": [],
   "source": [
    "def LUT(address):\n",
    "    sine_table = [\n",
    "        2460658, 2762200, 2925946, 3284755, 686513, 3905735, 4384445, \n",
    "        4921316, 5524401, 5852787, 6569510, 7373921, 7812366, 8768891, \n",
    "        9842633, 11047908, 11704680, 13138126, 14746949, 15623838, \n",
    "        17537783, 19685266, 22095817, 23410256, 26276252, 29494793, \n",
    "        31248571, 35075566, 39370533, 44191634, 46819617, 52553398, \n",
    "        58988691, 62497142, 70150237, 78741067, 88384163, 93639234, \n",
    "        105106797, 117978277, 124993390, 140300475, 157482134, \n",
    "        176767432, 187278469, 210213595, 235956555, 249987676, \n",
    "        280600950, 314964268, 353535759, 374557834\n",
    "    ]\n",
    "    # Ensure the address is within bounds\n",
    "    return sine_table[address] if 0 <= address < len(sine_table) else 0"
   ]
  },
  {
   "cell_type": "code",
   "execution_count": 2,
   "metadata": {},
   "outputs": [],
   "source": [
    "# Example usage\n",
    "print(LUT(43))  # Should return 176767432\n",
    "print(LUT(52))  # Should return 0 (address out of range)"
   ]
  }
 ],
 "metadata": {
  "kernelspec": {
   "display_name": "Python 3",
   "language": "python",
   "name": "python3"
  },
  "language_info": {
   "codemirror_mode": {
    "name": "ipython",
    "version": 3
   },
   "file_extension": ".py",
   "mimetype": "text/x-python",
   "name": "python",
   "nbconvert_exporter": "python",
   "pygments_lexer": "ipython3",
   "version": "3.8.3"
  }
 },
 "nbformat": 4,
 "nbformat_minor": 4
}
